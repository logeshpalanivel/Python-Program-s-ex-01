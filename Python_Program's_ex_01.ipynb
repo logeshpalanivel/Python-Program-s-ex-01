{
  "nbformat": 4,
  "nbformat_minor": 0,
  "metadata": {
    "colab": {
      "provenance": []
    },
    "kernelspec": {
      "name": "python3",
      "display_name": "Python 3"
    },
    "language_info": {
      "name": "python"
    }
  },
  "cells": [
    {
      "cell_type": "markdown",
      "source": [
        "Write a program to print the given number is odd or even"
      ],
      "metadata": {
        "id": "dNTLZ5VZbcCc"
      }
    },
    {
      "cell_type": "code",
      "execution_count": 1,
      "metadata": {
        "colab": {
          "base_uri": "https://localhost:8080/"
        },
        "id": "G60q0bn-bXLR",
        "outputId": "90e10dab-19dc-4263-dfa5-ec8a0091c6cf"
      },
      "outputs": [
        {
          "output_type": "stream",
          "name": "stdout",
          "text": [
            "a=11\n",
            "The given number is odd\n"
          ]
        }
      ],
      "source": [
        "a = int(input('a='))\n",
        "if(a%2==1):\n",
        "  print('The given number is odd')\n",
        "else:\n",
        "  print('The given number is even')"
      ]
    },
    {
      "cell_type": "markdown",
      "source": [
        "Write a program to find the given number is positive or negative.\n"
      ],
      "metadata": {
        "id": "5_aFDe7Ibab_"
      }
    },
    {
      "cell_type": "code",
      "source": [
        "a=int(input('a='))\n",
        "if(a>=0):\n",
        "  print('The Given Number is positive')\n",
        "else:\n",
        "  print('The Given Number is Negative')"
      ],
      "metadata": {
        "colab": {
          "base_uri": "https://localhost:8080/"
        },
        "id": "PCLk8pPrb3fo",
        "outputId": "847623c1-887d-4f29-e763-c10fe70b6d75"
      },
      "execution_count": 2,
      "outputs": [
        {
          "output_type": "stream",
          "name": "stdout",
          "text": [
            "a=1\n",
            "The Given Number is positive\n"
          ]
        }
      ]
    },
    {
      "cell_type": "markdown",
      "source": [
        "Write a program to find the sum of two numbers.\n"
      ],
      "metadata": {
        "id": "NCLzgyQ-cKtM"
      }
    },
    {
      "cell_type": "code",
      "source": [
        "a=int(input('a='))\n",
        "b=int(input('b='))\n",
        "sum=a+b\n",
        "print('The sum of two Numbers=',sum)"
      ],
      "metadata": {
        "colab": {
          "base_uri": "https://localhost:8080/"
        },
        "id": "8esI8JmmcGpI",
        "outputId": "c8de0b25-c9a9-4e0a-8de8-1889b5f481fb"
      },
      "execution_count": 3,
      "outputs": [
        {
          "output_type": "stream",
          "name": "stdout",
          "text": [
            "a=10\n",
            "b=15\n",
            "The sum of two Numbers= 25\n"
          ]
        }
      ]
    },
    {
      "cell_type": "markdown",
      "source": [
        "Write a program to find if the given number is prime or not.\n"
      ],
      "metadata": {
        "id": "ITeMuy-RckYv"
      }
    },
    {
      "cell_type": "code",
      "source": [
        "a= int(input('a='))\n",
        "count=0\n",
        "for i in range(1,a+1):\n",
        "  if(a%i==0):\n",
        "    count=count+1\n",
        "if(count==2):\n",
        "  print('The given number is prime')\n",
        "else:\n",
        "  print('The given number is not prime')"
      ],
      "metadata": {
        "colab": {
          "base_uri": "https://localhost:8080/"
        },
        "id": "nb-_GxCEcfnU",
        "outputId": "fc589458-3768-45f1-aef3-739214730860"
      },
      "execution_count": 13,
      "outputs": [
        {
          "output_type": "stream",
          "name": "stdout",
          "text": [
            "a=1\n",
            "The given number is not prime\n"
          ]
        }
      ]
    },
    {
      "cell_type": "markdown",
      "source": [
        "Write a program to check if the given number is palindrome or not.\n"
      ],
      "metadata": {
        "id": "maiOZPZmeE-O"
      }
    },
    {
      "cell_type": "code",
      "source": [
        "a= int(input('a='))\n",
        "a=str(a)\n",
        "b=a[::-1]\n",
        "if(a==b):\n",
        "  print('The Given Number is palindrome')\n",
        "else:\n",
        "  print('The Given NUmber is Not palindrome')"
      ],
      "metadata": {
        "colab": {
          "base_uri": "https://localhost:8080/"
        },
        "id": "4muW9UhAdAaq",
        "outputId": "e260d10c-bd9f-4961-e02d-27e7d7ac24be"
      },
      "execution_count": 18,
      "outputs": [
        {
          "output_type": "stream",
          "name": "stdout",
          "text": [
            "a=505\n",
            "The Given Number is palindrome\n"
          ]
        }
      ]
    }
  ]
}